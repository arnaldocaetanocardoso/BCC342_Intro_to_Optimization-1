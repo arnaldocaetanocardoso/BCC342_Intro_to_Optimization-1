{
  "nbformat": 4,
  "nbformat_minor": 0,
  "metadata": {
    "colab": {
      "name": "GoldenSearch.ipynb",
      "provenance": [],
      "collapsed_sections": [],
      "authorship_tag": "ABX9TyNliXpmZV+od8/lJTennBtN",
      "include_colab_link": true
    },
    "kernelspec": {
      "name": "python3",
      "display_name": "Python 3"
    },
    "language_info": {
      "name": "python"
    }
  },
  "cells": [
    {
      "cell_type": "markdown",
      "metadata": {
        "id": "view-in-github",
        "colab_type": "text"
      },
      "source": [
        "<a href=\"https://colab.research.google.com/github/rcpsilva/BCC342_Intro_to_Optimization/blob/main/GoldenSearch.ipynb\" target=\"_parent\"><img src=\"https://colab.research.google.com/assets/colab-badge.svg\" alt=\"Open In Colab\"/></a>"
      ]
    },
    {
      "cell_type": "code",
      "metadata": {
        "id": "xZQmVhkhgK5Z"
      },
      "source": [
        "import math\n",
        "import matplotlib.pyplot as plt\n",
        "import numpy as np"
      ],
      "execution_count": 1,
      "outputs": []
    },
    {
      "cell_type": "code",
      "metadata": {
        "id": "C8fTw6m-stQ6"
      },
      "source": [
        "f = lambda x: 2 + math.cos(x) + math.cos(2*x -1/2)/2\n",
        "\n",
        "xs = [x for x in np.arange(1,6,0.001)]\n",
        "fxs = [f(x) for x in xs]"
      ],
      "execution_count": 2,
      "outputs": []
    },
    {
      "cell_type": "code",
      "metadata": {
        "colab": {
          "base_uri": "https://localhost:8080/",
          "height": 282
        },
        "id": "sisWShzdtSYr",
        "outputId": "b7654369-fc31-4e02-f45f-fae906f918a2"
      },
      "source": [
        "plt.plot(xs,fxs)"
      ],
      "execution_count": 3,
      "outputs": [
        {
          "output_type": "execute_result",
          "data": {
            "text/plain": [
              "[<matplotlib.lines.Line2D at 0x7f9f61d17510>]"
            ]
          },
          "metadata": {
            "tags": []
          },
          "execution_count": 3
        },
        {
          "output_type": "display_data",
          "data": {
            "image/png": "[encoded data removed]",
            "text/plain": [
              "<Figure size 432x288 with 1 Axes>"
            ]
          },
          "metadata": {
            "tags": [],
            "needs_background": "light"
          }
        }
      ]
    },
    {
      "cell_type": "code",
      "metadata": {
        "id": "pnuzkVEltW5q"
      },
      "source": [
        "def golden_search(f,a,b,tol):\n",
        "\n",
        "  gr = (1 + math.sqrt(5))/2\n",
        "\n",
        "  c = b - (b-a)/gr\n",
        "  d = a + (b-a)/gr\n",
        "\n",
        "  while abs(b-a) > tol:\n",
        "    if f(c) > f(d):\n",
        "      a = c\n",
        "    else:\n",
        "      b = d\n",
        "      \n",
        "    c = b - (b-a)/gr\n",
        "    d = a + (b-a)/gr\n",
        "\n",
        "    \n",
        "  return (b+a)/2\n"
      ],
      "execution_count": 4,
      "outputs": []
    },
    {
      "cell_type": "code",
      "metadata": {
        "id": "jusqe_1lfqqY"
      },
      "source": [
        "x_s = golden_search(f,1,6,0.00001)"
      ],
      "execution_count": 5,
      "outputs": []
    },
    {
      "cell_type": "code",
      "metadata": {
        "colab": {
          "base_uri": "https://localhost:8080/",
          "height": 282
        },
        "id": "JUxXYkG6f5Rf",
        "outputId": "6f541e9e-4215-4d04-9cc9-970bc01f1956"
      },
      "source": [
        "plt.plot(xs,fxs)\n",
        "plt.plot(x_s,f(x_s),'or')"
      ],
      "execution_count": 6,
      "outputs": [
        {
          "output_type": "execute_result",
          "data": {
            "text/plain": [
              "[<matplotlib.lines.Line2D at 0x7f9f5b70f950>]"
            ]
          },
          "metadata": {
            "tags": []
          },
          "execution_count": 6
        },
        {
          "output_type": "display_data",
          "data": {
            "image/png": "[encoded data removed]",
            "text/plain": [
              "<Figure size 432x288 with 1 Axes>"
            ]
          },
          "metadata": {
            "tags": [],
            "needs_background": "light"
          }
        }
      ]
    },
    {
      "cell_type": "code",
      "metadata": {
        "id": "jM1IISv3h2sn"
      },
      "source": [
        ""
      ],
      "execution_count": 6,
      "outputs": []
    }
  ]
}